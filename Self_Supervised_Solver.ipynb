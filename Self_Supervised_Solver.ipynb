{
  "cells": [
    {
      "cell_type": "markdown",
      "metadata": {
        "id": "view-in-github",
        "colab_type": "text"
      },
      "source": [
        "<a href=\"https://colab.research.google.com/github/ArnavAK74/AI_Speedcubing/blob/main/Self_Supervised_Solver.ipynb\" target=\"_parent\"><img src=\"https://colab.research.google.com/assets/colab-badge.svg\" alt=\"Open In Colab\"/></a>"
      ]
    },
    {
      "cell_type": "markdown",
      "metadata": {
        "id": "E3efcIagYtE-"
      },
      "source": [
        "\n",
        "# Self-Supervised Solver: Rubik's Cube\n",
        "\n",
        "---\n",
        "\n",
        "## Overview\n",
        "The model introduces a self-supervised deep learning approach for solving goal-predefined combinatorial problems like the Rubik's Cube. By training a Deep Neural Network (DNN) on random scrambles branching from the solved state, it predicts reverse moves to solve the puzzle efficiently. This method reduces reliance on extensive training data or complex reinforcement learning setups.\n",
        "\n",
        "## Usage\n",
        "For the demonstration purpose, the default number of training steps is set to `10000`, and the beam width for inference is set to `2**5`. If you wish to speed up the training/inference, the mixed precision mode can be enabled by setting `ENABLE_FP16` to `True`."
      ]
    },
    {
      "cell_type": "markdown",
      "metadata": {
        "id": "Bkm-I-6R8P_T"
      },
      "source": [
        "## Setup"
      ]
    },
    {
      "cell_type": "code",
      "execution_count": null,
      "metadata": {
        "id": "hrbMOYJd-ukF",
        "trusted": true
      },
      "outputs": [],
      "source": [
        "class TrainConfig:\n",
        "    max_depth = 26                          # God's Number\n",
        "    batch_size_per_depth = 1000\n",
        "    num_steps = 10000\n",
        "    learning_rate = 1e-3\n",
        "    INTERVAL_PLOT, INTERVAL_SAVE = 100, 1000\n",
        "    ENABLE_FP16 = True                      # Set this to True if you want to train the model faster\n",
        "\n",
        "class SearchConfig:\n",
        "    beam_width = 2**11                      # This controls the trade-off between time and optimality\n",
        "    max_depth = TrainConfig.max_depth * 2   # Any number above God's Number will do\n",
        "    ENABLE_FP16 = True                      # Set this to True if you want to solve faster"
      ]
    },
    {
      "cell_type": "code",
      "execution_count": null,
      "metadata": {
        "id": "nF5FQBsiZxPB",
        "outputId": "fa04401c-67da-4c02-b195-193f5bb243b1",
        "trusted": true,
        "colab": {
          "base_uri": "https://localhost:8080/"
        }
      },
      "outputs": [
        {
          "output_type": "stream",
          "name": "stdout",
          "text": [
            "device: cuda\n",
            "os.cpu_count(): 12\n",
            "GPU 0: NVIDIA A100-SXM4-40GB (UUID: GPU-11a0e971-2c37-740f-0ff1-fe4b5aafe7cd)\n"
          ]
        }
      ],
      "source": [
        "import os\n",
        "import time\n",
        "import random\n",
        "import pickle\n",
        "import numpy as np\n",
        "from copy import deepcopy\n",
        "from contextlib import nullcontext\n",
        "from tqdm import tqdm, trange\n",
        "\n",
        "import matplotlib.pyplot as plt\n",
        "from cycler import cycler; plt.rcParams[\"axes.prop_cycle\"] = cycler(color=[\"#000000\", \"#2180FE\", \"#EB4275\"])\n",
        "from IPython.display import clear_output\n",
        "\n",
        "import torch\n",
        "from torch import nn\n",
        "device = torch.device('cuda' if torch.cuda.is_available() else 'cpu')\n",
        "\n",
        "print(f'device: {device}')\n",
        "print(f'os.cpu_count(): {os.cpu_count()}')\n",
        "!nvidia-smi -L"
      ]
    },
    {
      "cell_type": "markdown",
      "metadata": {
        "id": "2bYs2VICZxdg"
      },
      "source": [
        "## Environment\n",
        "Rubik's Cube is operated based on the locations and colors of 6$\\times$9 stickers.\n",
        "\n",
        "We employ [Quarter-Turn Metric](https://www.speedsolving.com/wiki/index.php/Metric#QTM) (90° turns count as one move; 180°, two) for both scrambling and solving the puzzle.\n"
      ]
    },
    {
      "cell_type": "code",
      "execution_count": null,
      "metadata": {
        "id": "QjlRyQ6LZ45Q",
        "trusted": true
      },
      "outputs": [],
      "source": [
        "class Cube3:\n",
        "    \"\"\"\n",
        "    A class for 3x3x3 Rubik's Cube\n",
        "    \"\"\"\n",
        "    def __init__(self):\n",
        "        self.DTYPE = np.int64\n",
        "\n",
        "        # Define initial and goal state\n",
        "        self.reset()\n",
        "        self.goal = np.arange(0, 9 * 6, dtype=self.DTYPE) // 9\n",
        "\n",
        "        # Define moves\n",
        "        ## faces and turns\n",
        "        faces = [\"U\", \"D\", \"L\", \"R\", \"B\", \"F\"]\n",
        "        ## [90 degrees clockwise, 90 degrees counter-clockwise]\n",
        "        degrees = [\"\", \"'\"]\n",
        "        degrees_inference = degrees[::-1]\n",
        "        self.moves = [f\"{f}{n}\" for f in faces for n in degrees]\n",
        "        self.moves_inference = [f\"{f}{n}\" for f in faces for n in degrees_inference]\n",
        "\n",
        "        # Opposite faces\n",
        "        self.pairing = {\n",
        "            \"R\": \"L\",\n",
        "            \"L\": \"R\",\n",
        "            \"F\": \"B\",\n",
        "            \"B\": \"F\",\n",
        "            \"U\": \"D\",\n",
        "            \"D\": \"U\",\n",
        "        }\n",
        "        # Prohibit obviously redundant moves.\n",
        "        self.moves_available_after = {\n",
        "            m: [v for v in self.moves if v[0] != m[0]] + [m]\n",
        "            for m in self.moves\n",
        "        } # self-cancelling moves on the same face\n",
        "\n",
        "        # [OPTIMIZATION] slicing by move string (e.g., R', U, F) => indices (e.g., 2, 6, 1)\n",
        "        self.moves_ix = [self.moves.index(m) for m in self.moves]\n",
        "        self.moves_ix_available_after = {\n",
        "            self.moves.index(m): [self.moves.index(m) for m in available_moves]\n",
        "            for m, available_moves in self.moves_available_after.items()\n",
        "        }\n",
        "        self.moves_ix_inference = [self.moves.index(m) for m in self.moves_inference]\n",
        "        self.pairing_ix = {\n",
        "            0: 1,\n",
        "            1: 0,\n",
        "            2: 3,\n",
        "            3: 2,\n",
        "            4: 5,\n",
        "            5: 4,\n",
        "        } # Points to the opposite face index\n",
        "\n",
        "        # Vectorize the sticker group replacement operations\n",
        "        self.__vectorize_moves()\n",
        "\n",
        "    def reset(self):\n",
        "        \"\"\"Resets the cube state to the solved state.\"\"\"\n",
        "        self.state = np.arange(0, 9 * 6, dtype=self.DTYPE) // 9\n",
        "\n",
        "    def is_solved(self):\n",
        "        \"\"\"Checks if the cube is in the solved state.\"\"\"\n",
        "        return np.all(self.state == self.goal)\n",
        "\n",
        "    def finger(self, move):\n",
        "        \"\"\"Applies a single move on the cube state using move string.\"\"\"\n",
        "        self.state[self.sticker_target[move]] = self.state[self.sticker_source[move]]\n",
        "\n",
        "    def finger_ix(self, ix):\n",
        "        \"\"\"The same `finger` method **but using indices of moves for faster execution\"\"\"\n",
        "        self.state[self.sticker_target_ix[ix]] = self.state[self.sticker_source_ix[ix]]\n",
        "\n",
        "    def apply_scramble(self, scramble):\n",
        "        \"\"\"Applies a sequence of moves (scramble) to the cube state.\"\"\"\n",
        "        if isinstance(scramble, str):\n",
        "            scramble = scramble.split()\n",
        "        for m in scramble:\n",
        "            if m[-1]=='2':\n",
        "                for _ in range(2):\n",
        "                    self.finger(m[0])\n",
        "            else:\n",
        "                    self.finger(m)\n",
        "\n",
        "    def scrambler(self, scramble_length):\n",
        "        \"\"\"\n",
        "        Generates a random scramble of given length and returns the cube state and scramble moves as a generator.\n",
        "        Please note that index-based implementations (faster) follow commented lexical logics.\n",
        "        \"\"\"\n",
        "        while True:\n",
        "            # Reset the cube state, scramble, and return cube state and scramble moves\n",
        "            self.reset()\n",
        "            scramble = []\n",
        "\n",
        "            for i in range(scramble_length):\n",
        "                if i:\n",
        "                    last_move = scramble[-1]\n",
        "                    if i > 1:   # [3rd~ moves]\n",
        "                        while True:\n",
        "                            # move = random.choice(self.moves_available_after[last_move])\n",
        "                            move = random.choice(self.moves_ix_available_after[last_move])\n",
        "\n",
        "                            if scramble[-2] == last_move == move:\n",
        "                                # Three subsequent moves on the same face, which could be one\n",
        "                                continue\n",
        "                            # elif (\n",
        "                            #     scramble[-2][0] == move[0] and len(scramble[-2] + move) == 3\n",
        "                            #     and last_move[0] == self.pairing[move[0]]\n",
        "                            # ):\n",
        "                            elif (\n",
        "                                scramble[-2]//2 == move//2 and scramble[-2]%2 != move%2\n",
        "                                and last_move//2 == self.pairing_ix[move//2]\n",
        "                            ):\n",
        "                                # Two mutually canceling moves sandwiching an opposite face move\n",
        "                                continue\n",
        "                            else:\n",
        "                                break\n",
        "                    else:       # [2nd move]\n",
        "                        # move = random.choice(self.moves_available_after[last_move])\n",
        "                        move = random.choice(self.moves_ix_available_after[last_move])\n",
        "                else:           # [1st move]\n",
        "                    # move = random.choice(self.moves)\n",
        "                    move = random.choice(self.moves_ix)\n",
        "\n",
        "                # self.finger(move)\n",
        "                self.finger_ix(move)\n",
        "                scramble.append(move)\n",
        "\n",
        "                yield self.state, move\n",
        "\n",
        "\n",
        "    def __vectorize_moves(self):\n",
        "        \"\"\"\n",
        "        Vectorizes the sticker group replacement operations for faster computation.\n",
        "        This method defines ```self.sticker_target``` and ```self.sticker_source``` to manage sticker colors (target is replaced by source).\n",
        "        They define indices of target and source stickers so that the moves can be vectorized.\n",
        "\n",
        "        Colors:\n",
        "\n",
        "                0 0 0\n",
        "                0 0 0\n",
        "                0 0 0\n",
        "        2 2 2   5 5 5   3 3 3   4 4 4\n",
        "        2 2 2   5 5 5   3 3 3   4 4 4\n",
        "        2 2 2   5 5 5   3 3 3   4 4 4\n",
        "                1 1 1\n",
        "                1 1 1\n",
        "                1 1 1\n",
        "\n",
        "        Order of stickers on each face:\n",
        "\n",
        "             2   5   8\n",
        "             1   4   7\n",
        "            [0]  3   6\n",
        "\n",
        "        Indices of state (each starting with 9*(n-1)):\n",
        "\n",
        "                         2   5   8\n",
        "                         1   4   7\n",
        "                        [0]  3   6\n",
        "             20  23 26  47  50  53  29  32 35  38  41 44\n",
        "             19  22 25  46  49  52  28  31 34  37  40 43\n",
        "            [18] 21 24 [45] 48  51 [27] 30 33 [36] 39 42\n",
        "                        11   14 17\n",
        "                        10   13 16\n",
        "                        [9]  12 15\n",
        "        \"\"\"\n",
        "        self.sticker_target, self.sticker_source = dict(), dict()\n",
        "\n",
        "        self.sticker_replacement = {\n",
        "            # Sticker A is replaced by another sticker at index B -> A:B\n",
        "            'U':{0: 6, 1: 3, 2: 0, 3: 7, 5: 1, 6: 8, 7: 5, 8: 2, 20: 47, 23: 50, 26: 53, 29: 38, 32: 41, 35: 44, 38: 20, 41: 23, 44: 26, 47: 29, 50: 32, 53: 35},\n",
        "            'D':{9: 15, 10: 12, 11: 9, 12: 16, 14: 10, 15: 17, 16: 14, 17: 11, 18: 36, 21: 39, 24: 42, 27: 45, 30: 48, 33: 51, 36: 27, 39: 30, 42: 33, 45: 18, 48: 21, 51: 24},\n",
        "            'L':{0: 44, 1: 43, 2: 42, 9: 45, 10: 46, 11: 47, 18: 24, 19: 21, 20: 18, 21: 25, 23: 19, 24: 26, 25: 23, 26: 20, 42: 11, 43: 10, 44: 9, 45: 0, 46: 1, 47: 2},\n",
        "            'R':{6: 51, 7: 52, 8: 53, 15: 38, 16: 37, 17: 36, 27: 33, 28: 30, 29: 27, 30: 34, 32: 28, 33: 35, 34: 32, 35: 29, 36: 8, 37: 7, 38: 6, 51: 15, 52: 16, 53: 17},\n",
        "            'B':{2: 35, 5: 34, 8: 33, 9: 20, 12: 19, 15: 18, 18: 2, 19: 5, 20: 8, 33: 9, 34: 12, 35: 15, 36: 42, 37: 39, 38: 36, 39: 43, 41: 37, 42: 44, 43: 41, 44: 38},\n",
        "            'F':{0: 24, 3: 25, 6: 26, 11: 27, 14: 28, 17: 29, 24: 17, 25: 14, 26: 11, 27: 6, 28: 3, 29: 0, 45: 51, 46: 48, 47: 45, 48: 52, 50: 46, 51: 53, 52: 50, 53: 47}\n",
        "        }\n",
        "        for m in self.moves:\n",
        "            if len(m) == 1:\n",
        "                assert m in self.sticker_replacement\n",
        "            else:\n",
        "                if \"'\" in m:\n",
        "                    self.sticker_replacement[m] = {\n",
        "                        v: k for k, v in self.sticker_replacement[m[0]].items()\n",
        "                    }\n",
        "                elif \"2\" in m:\n",
        "                    self.sticker_replacement[m] = {\n",
        "                        k: self.sticker_replacement[m[0]][v]\n",
        "                        for k, v in self.sticker_replacement[m[0]].items()\n",
        "                    }\n",
        "                else:\n",
        "                    raise\n",
        "\n",
        "            self.sticker_target[m] = list(self.sticker_replacement[m].keys())\n",
        "            self.sticker_source[m] = list(self.sticker_replacement[m].values())\n",
        "\n",
        "            for i, idx in enumerate(self.sticker_target[m]):\n",
        "                assert self.sticker_replacement[m][idx] == self.sticker_source[m][i]\n",
        "\n",
        "        # For index slicing\n",
        "        self.sticker_target_ix = np.array([np.array(self.sticker_target[m]) for m in self.moves])\n",
        "        self.sticker_source_ix = np.array([np.array(self.sticker_source[m]) for m in self.moves])\n",
        "\n",
        "env = Cube3()"
      ]
    },
    {
      "cell_type": "markdown",
      "metadata": {
        "id": "aJFeXe-za8oL"
      },
      "source": [
        "## Model"
      ]
    },
    {
      "cell_type": "code",
      "execution_count": null,
      "metadata": {
        "id": "cO471ABebCl6",
        "trusted": true,
        "outputId": "d2ebfb5a-1838-4490-9c48-32542f6128b4",
        "colab": {
          "base_uri": "https://localhost:8080/"
        }
      },
      "outputs": [
        {
          "output_type": "execute_result",
          "data": {
            "text/plain": [
              "Model(\n",
              "  (embedding): LinearBlock(\n",
              "    (fc): Linear(in_features=324, out_features=5000, bias=True)\n",
              "    (relu): ReLU()\n",
              "    (bn): BatchNorm1d(5000, eps=1e-05, momentum=0.1, affine=True, track_running_stats=True)\n",
              "  )\n",
              "  (layers): ModuleList(\n",
              "    (0): LinearBlock(\n",
              "      (fc): Linear(in_features=5000, out_features=1000, bias=True)\n",
              "      (relu): ReLU()\n",
              "      (bn): BatchNorm1d(1000, eps=1e-05, momentum=0.1, affine=True, track_running_stats=True)\n",
              "    )\n",
              "    (1-4): 4 x ResidualBlock(\n",
              "      (layers): ModuleList(\n",
              "        (0-1): 2 x LinearBlock(\n",
              "          (fc): Linear(in_features=1000, out_features=1000, bias=True)\n",
              "          (relu): ReLU()\n",
              "          (bn): BatchNorm1d(1000, eps=1e-05, momentum=0.1, affine=True, track_running_stats=True)\n",
              "        )\n",
              "      )\n",
              "    )\n",
              "  )\n",
              "  (output): Linear(in_features=1000, out_features=12, bias=True)\n",
              ")"
            ]
          },
          "metadata": {},
          "execution_count": 4
        }
      ],
      "source": [
        "class LinearBlock(nn.Module):\n",
        "    \"\"\"\n",
        "    Linear layer with ReLU and BatchNorm\n",
        "    \"\"\"\n",
        "    def __init__(self, input_prev, embed_dim):\n",
        "        super(LinearBlock, self).__init__()\n",
        "        self.fc = nn.Linear(input_prev, embed_dim)\n",
        "        self.relu = nn.ReLU()\n",
        "        self.bn = nn.BatchNorm1d(embed_dim)\n",
        "\n",
        "    def forward(self, inputs):\n",
        "        x = inputs\n",
        "        x = self.fc(x)\n",
        "        x = self.relu(x)\n",
        "        x = self.bn(x)\n",
        "        return x\n",
        "\n",
        "class ResidualBlock(nn.Module):\n",
        "    \"\"\"\n",
        "    Residual block with two linear layers\n",
        "    \"\"\"\n",
        "    def __init__(self, embed_dim):\n",
        "        super(ResidualBlock, self).__init__()\n",
        "        self.layers = nn.ModuleList([\n",
        "            LinearBlock(embed_dim, embed_dim),\n",
        "            LinearBlock(embed_dim, embed_dim)\n",
        "        ])\n",
        "\n",
        "    def forward(self, inputs):\n",
        "        x = inputs\n",
        "        for layer in self.layers:\n",
        "            x = layer(x)\n",
        "        x += inputs # skip-connection\n",
        "        return x\n",
        "\n",
        "class Model(nn.Module):\n",
        "    \"\"\"\n",
        "    Fixed architecture following DeepCubeA.\n",
        "    \"\"\"\n",
        "    def __init__(self, input_dim=324, output_dim=len(env.moves)):\n",
        "        super(Model, self).__init__()\n",
        "        self.input_dim = input_dim\n",
        "        self.embedding = LinearBlock(input_dim, 5000)\n",
        "        self.layers = nn.ModuleList([\n",
        "            LinearBlock(5000,1000),\n",
        "            ResidualBlock(1000),\n",
        "            ResidualBlock(1000),\n",
        "            ResidualBlock(1000),\n",
        "            ResidualBlock(1000)\n",
        "        ])\n",
        "        self.output = nn.Linear(1000, output_dim)\n",
        "\n",
        "    def forward(self, inputs):\n",
        "        # int indices => float one-hot vectors\n",
        "        x = nn.functional.one_hot(inputs, num_classes=6).to(torch.float)\n",
        "        x = x.reshape(-1, self.input_dim)\n",
        "        x = self.embedding(x)\n",
        "        for layer in self.layers:\n",
        "            x = layer(x)\n",
        "        logits = self.output(x)\n",
        "        return logits\n",
        "\n",
        "model = Model()\n",
        "model.to(device)"
      ]
    },
    {
      "cell_type": "markdown",
      "metadata": {
        "id": "gv617n3MbSdO"
      },
      "source": [
        "## Training"
      ]
    },
    {
      "cell_type": "code",
      "execution_count": null,
      "metadata": {
        "id": "C8845Zz4E5Sw",
        "trusted": true
      },
      "outputs": [],
      "source": [
        "class ScrambleGenerator(torch.utils.data.Dataset):\n",
        "    def __init__(\n",
        "            self,\n",
        "            num_workers=os.cpu_count(),\n",
        "            max_depth=TrainConfig.max_depth,\n",
        "            total_samples=TrainConfig.num_steps*TrainConfig.batch_size_per_depth\n",
        "        ):\n",
        "        self.num_workers = num_workers\n",
        "        self.max_depth = max_depth\n",
        "        self.envs = [Cube3() for _ in range(num_workers)]\n",
        "        self.generators = [env.scrambler(self.max_depth) for env in self.envs]\n",
        "\n",
        "        self.total_samples = total_samples\n",
        "\n",
        "    def __len__(self):\n",
        "        return self.total_samples\n",
        "\n",
        "    def __getitem__(self, i):\n",
        "        ''' generate one scramble, consisting of `self.max_depth` data points '''\n",
        "        worker_idx = i % self.num_workers\n",
        "        X = np.zeros((self.max_depth, 54), dtype=int)\n",
        "        y = np.zeros((self.max_depth,), dtype=int)\n",
        "        for j in range(self.max_depth):\n",
        "            state, last_move = next(self.generators[worker_idx])\n",
        "            X[j, :] = state\n",
        "            y[j] = last_move\n",
        "        return X, y\n",
        "\n",
        "dataloader = torch.utils.data.DataLoader(\n",
        "    ScrambleGenerator(),\n",
        "    num_workers=os.cpu_count(),\n",
        "    batch_size=TrainConfig.batch_size_per_depth\n",
        ")"
      ]
    },
    {
      "cell_type": "code",
      "execution_count": null,
      "metadata": {
        "id": "9YSxZ1Rs61Nm",
        "outputId": "e39e125c-2333-4884-b2d8-8fb22cd816d9",
        "trusted": true,
        "colab": {
          "base_uri": "https://localhost:8080/",
          "height": 506
        }
      },
      "outputs": [
        {
          "output_type": "display_data",
          "data": {
            "text/plain": [
              "<Figure size 640x480 with 1 Axes>"
            ],
            "image/png": "[encoded data removed]"
          },
          "metadata": {}
        },
        {
          "output_type": "stream",
          "name": "stderr",
          "text": [
            "100%|██████████| 10000/10000 [06:33<00:00, 25.43it/s]"
          ]
        },
        {
          "output_type": "stream",
          "name": "stdout",
          "text": [
            "Model saved.\n",
            "Trained on data equivalent to 10000000 solves.\n"
          ]
        },
        {
          "output_type": "stream",
          "name": "stderr",
          "text": [
            "\n"
          ]
        }
      ],
      "source": [
        "def plot_loss_curve(h):\n",
        "    fig, ax = plt.subplots(1, 1)\n",
        "    ax.plot(h)\n",
        "    ax.set_xlabel(\"Steps\")\n",
        "    ax.set_ylabel(\"Cross-entropy loss\")\n",
        "    ax.set_xscale(\"log\")\n",
        "    plt.show()\n",
        "\n",
        "def train(model, dataloader):\n",
        "    model.train()\n",
        "    loss_fn = nn.CrossEntropyLoss()\n",
        "    optimizer = torch.optim.Adam(model.parameters(), lr=TrainConfig.learning_rate)\n",
        "    g = iter(dataloader)\n",
        "    h = []\n",
        "    ctx = torch.cuda.amp.autocast(dtype=torch.float16) if TrainConfig.ENABLE_FP16 else nullcontext()\n",
        "\n",
        "    for i in trange(1, TrainConfig.num_steps + 1):\n",
        "        batch_x, batch_y = next(g)\n",
        "        batch_x, batch_y = batch_x.reshape(-1, 54).to(device), batch_y.reshape(-1).to(device)\n",
        "\n",
        "        with ctx:\n",
        "            pred_y = model(batch_x)\n",
        "            loss = loss_fn(pred_y, batch_y)\n",
        "        optimizer.zero_grad()\n",
        "        loss.backward()\n",
        "        optimizer.step()\n",
        "\n",
        "        h.append(loss.item())\n",
        "        if TrainConfig.INTERVAL_PLOT and i % TrainConfig.INTERVAL_PLOT == 0:\n",
        "            clear_output()\n",
        "            plot_loss_curve(h)\n",
        "        if TrainConfig.INTERVAL_SAVE and i % TrainConfig.INTERVAL_SAVE == 0:\n",
        "            torch.save(model.state_dict(), f\"{i}steps.pth\")\n",
        "            print(\"Model saved.\")\n",
        "    print(f\"Trained on data equivalent to {TrainConfig.batch_size_per_depth * TrainConfig.num_steps} solves.\")\n",
        "    return model\n",
        "\n",
        "model = train(model, dataloader)"
      ]
    },
    {
      "cell_type": "markdown",
      "metadata": {
        "id": "slgl-ZobeqfU"
      },
      "source": [
        "## Inference\n",
        "\n",
        "We test and compare on the DeepCubeA dataset"
      ]
    },
    {
      "cell_type": "markdown",
      "metadata": {
        "id": "TM9TBcgGIglD"
      },
      "source": [
        "### Dataset: DeepCubeA\n",
        "\n",
        "Downloading from GitHub"
      ]
    },
    {
      "cell_type": "code",
      "execution_count": null,
      "metadata": {
        "id": "NPNMHAr-eess",
        "outputId": "f400d0f2-9608-49f8-f0f0-0e48e2615af9",
        "trusted": true,
        "colab": {
          "base_uri": "https://localhost:8080/"
        }
      },
      "outputs": [
        {
          "output_type": "stream",
          "name": "stdout",
          "text": [
            "/content/DeepCubeA\n",
            "### Optimal Solver ###\n",
            "dict_keys(['states', 'times', 'solutions', 'num_nodes_generated'])\n",
            "No. of cases: 1000\n",
            "\n",
            "### DeepCubeA ###\n",
            "dict_keys(['states', 'solutions', 'paths', 'times', 'num_nodes_generated'])\n",
            "No. of cases: 1000\n",
            "/content\n"
          ]
        }
      ],
      "source": [
        "if \"DeepCubeA\"!=os.getcwd().split(\"/\")[-1]:\n",
        "    if not os.path.exists('DeepCubeA'):\n",
        "        !git clone -q https://github.com/forestagostinelli/DeepCubeA\n",
        "    %cd ./DeepCubeA/\n",
        "\n",
        "print('### Optimal Solver ###')\n",
        "filename = 'data/cube3/test/data_0.pkl'\n",
        "with open(filename, 'rb') as f:\n",
        "    result_Optimal = pickle.load(f)\n",
        "\n",
        "    print(result_Optimal.keys())\n",
        "    result_Optimal[\"solution_lengths\"] = [len(s) for s in result_Optimal[\"solutions\"]]\n",
        "    result_Optimal[\"solution_lengths_count\"] = {\n",
        "        i: result_Optimal[\"solution_lengths\"].count(i)\n",
        "        for i in range(min(result_Optimal[\"solution_lengths\"]), max(result_Optimal[\"solution_lengths\"]))\n",
        "    }\n",
        "\n",
        "    print('No. of cases:', len(result_Optimal[\"solution_lengths\"]))\n",
        "\n",
        "print('\\n### DeepCubeA ###')\n",
        "filename = 'results/cube3/results.pkl'\n",
        "with open(filename, 'rb') as f:\n",
        "    result_DeepCubeA = pickle.load(f)\n",
        "\n",
        "    print(result_DeepCubeA.keys())\n",
        "    result_DeepCubeA[\"solution_lengths\"] = [len(s) for s in result_DeepCubeA[\"solutions\"]]\n",
        "    result_DeepCubeA[\"solution_lengths_count\"] = {\n",
        "        i: result_DeepCubeA[\"solution_lengths\"].count(i)\n",
        "        for i in range(min(result_DeepCubeA[\"solution_lengths\"]), max(result_DeepCubeA[\"solution_lengths\"]))\n",
        "    }\n",
        "\n",
        "    print('No. of cases:', len(result_DeepCubeA[\"solution_lengths\"]))\n",
        "\n",
        "%cd ../"
      ]
    },
    {
      "cell_type": "code",
      "execution_count": null,
      "metadata": {
        "id": "OE78EUviHpzq",
        "outputId": "735090fa-ac38-42b2-b154-e277b4d1483b",
        "trusted": true,
        "colab": {
          "base_uri": "https://localhost:8080/"
        }
      },
      "outputs": [
        {
          "output_type": "stream",
          "name": "stdout",
          "text": [
            "Example:\n",
            "[['D', -1], ['F', 1], ['R', 1], ['U', -1], ['F', 1], ['F', 1], ['R', 1], ['U', 1], ['F', 1], ['R', 1], ['B', -1], ['R', -1], ['F', -1], ['R', -1], ['D', -1], ['U', -1], ['R', -1], ['U', -1], ['U', -1], ['R', -1], ['U', 1], ['B', -1]]\n",
            "-> ['B', \"U'\", 'R', 'U', 'U', 'R', 'U', 'D', 'R', 'F', 'R', 'B', \"R'\", \"F'\", \"U'\", \"R'\", \"F'\", \"F'\", 'U', \"R'\", \"F'\", 'D']\n"
          ]
        }
      ],
      "source": [
        "# Convert optimal solutions to test scrambles\n",
        "def solution2scramble(solution):\n",
        "    return [m[0] if m[1] == -1 else m[0] + \"'\" for m in solution[::-1]]\n",
        "\n",
        "test_scrambles = [solution2scramble(s) for s in result_Optimal[\"solutions\"]]\n",
        "\n",
        "print(f\"\"\"Example:\\n{result_Optimal[\"solutions\"][0]}\\n-> {test_scrambles[0]}\"\"\")"
      ]
    },
    {
      "cell_type": "markdown",
      "metadata": {
        "id": "nkzlyw7Ffg36"
      },
      "source": [
        "### Beam Search"
      ]
    },
    {
      "cell_type": "code",
      "execution_count": null,
      "metadata": {
        "id": "lHPcDfSnfijx",
        "trusted": true
      },
      "outputs": [],
      "source": [
        "@torch.no_grad()\n",
        "def beam_search(\n",
        "        env,\n",
        "        model,\n",
        "        beam_width=SearchConfig.beam_width,\n",
        "        max_depth=SearchConfig.max_depth,\n",
        "        skip_redundant_moves=True,\n",
        "    ):\n",
        "    \"\"\"\n",
        "    Best-first search algorithm.\n",
        "    Input:\n",
        "        env: A scrambled instance of the given environment.\n",
        "        model: PyTorch model used to predict the next move(s).\n",
        "        beam_width: Number of top solutions to return per depth.\n",
        "        max_depth: Maximum depth of the search tree.\n",
        "        skip_redundant_moves: If True, skip redundant moves.\n",
        "    Output:\n",
        "        if solved successfully:\n",
        "            True, {'solutions':solution path, \"num_nodes_generated\":number of nodes expanded, \"times\":time taken to solve}\n",
        "        else:\n",
        "            False, None\n",
        "    \"\"\"\n",
        "    model.eval()\n",
        "    with torch.cuda.amp.autocast(dtype=torch.float16) if SearchConfig.ENABLE_FP16 else nullcontext():\n",
        "        # metrics\n",
        "        num_nodes_generated, time_0 = 0, time.time()\n",
        "        candidates = [\n",
        "            {\"state\":deepcopy(env.state), \"path\":[], \"value\":1.}\n",
        "        ] # list of dictionaries\n",
        "\n",
        "        for depth in range(max_depth+1):\n",
        "            # TWO things at a time for every candidate: 1. check if solved & 2. add to batch_x\n",
        "            batch_x = np.zeros((len(candidates), env.state.shape[-1]), dtype=np.int64)\n",
        "            for i,c in enumerate(candidates):\n",
        "                c_path, env.state = c[\"path\"], c[\"state\"]\n",
        "                if c_path:\n",
        "                    env.finger_ix(c_path[-1])\n",
        "                    num_nodes_generated += 1\n",
        "                    if env.is_solved():\n",
        "                        # Revert: array of indices => array of notations\n",
        "                        c_path = [str(env.moves[i]) for i in c_path]\n",
        "                        return True, {'solutions':c_path, \"num_nodes_generated\":num_nodes_generated, \"times\":time.time()-time_0}\n",
        "                batch_x[i, :] = env.state\n",
        "\n",
        "            # after checking the nodes expanded at the deepest\n",
        "            if depth==max_depth:\n",
        "                print(\"Solution not found.\")\n",
        "                return False, None\n",
        "\n",
        "            # make predictions with the trained DNN\n",
        "            batch_x = torch.from_numpy(batch_x).to(device)\n",
        "            batch_p = model(batch_x)\n",
        "            batch_p = torch.nn.functional.softmax(batch_p, dim=-1)\n",
        "            batch_p = batch_p.detach().cpu().numpy()\n",
        "\n",
        "            # loop over candidates\n",
        "            candidates_next_depth = []  # storage for the depth-level candidates storing (path, value, index).\n",
        "            for i, c in enumerate(candidates):\n",
        "                c_path = c[\"path\"]\n",
        "                value_distribution = batch_p[i, :] # output logits for the given state\n",
        "                value_distribution *= c[\"value\"] # multiply the cumulative probability so far of the expanded path\n",
        "\n",
        "                for m, value in zip(env.moves_ix_inference, value_distribution): # iterate over all possible moves.\n",
        "                    # predicted value to expand the path with the given move.\n",
        "\n",
        "                    if c_path and skip_redundant_moves:\n",
        "                        if m not in env.moves_ix_available_after[c_path[-1]]:\n",
        "                            # Two mutually canceling moves\n",
        "                            continue\n",
        "                        elif len(c_path) > 1:\n",
        "                            # if c_path[-2] == c_path[-1] == m:\n",
        "                            if c_path[-2] == c_path[-1] == m:\n",
        "                                # Three subsequent moves that could be one\n",
        "                                continue\n",
        "                            # elif (\n",
        "                            #     c_path[-2][0] == m[0] and len(c_path[-2] + m) == 3\n",
        "                            #     and c_path[-1][0] == env.pairing[m[0]]\n",
        "                            # ):\n",
        "                            elif (\n",
        "                                c_path[-2]//2 == m//2 and c_path[-2]%2 != m%2\n",
        "                                and c_path[-1]//2 == env.pairing_ix[m//2]\n",
        "                            ):\n",
        "                                # Two mutually canceling moves sandwiching an opposite face move\n",
        "                                continue\n",
        "\n",
        "                    # add to the next-depth candidates unless 'continue'd.\n",
        "                    candidates_next_depth.append({\n",
        "                        'state':deepcopy(c['state']),\n",
        "                        \"path\": c_path+[m],\n",
        "                        \"value\":value,\n",
        "                    })\n",
        "\n",
        "            # sort potential paths by expected values and renew as 'candidates'\n",
        "            candidates = sorted(candidates_next_depth, key=lambda item: -item['value'])\n",
        "            # if the number of candidates exceed that of beam width 'beam_width'\n",
        "            candidates = candidates[:beam_width]\n"
      ]
    },
    {
      "cell_type": "markdown",
      "metadata": {
        "id": "7zbOlws3wNAI"
      },
      "source": [
        "### Solve"
      ]
    },
    {
      "cell_type": "code",
      "execution_count": null,
      "metadata": {
        "id": "4KnsiPonuWq0",
        "outputId": "5315c63f-3698-4bec-fc2e-549f43857f42",
        "trusted": true,
        "colab": {
          "base_uri": "https://localhost:8080/",
          "height": 990
        }
      },
      "outputs": [
        {
          "output_type": "stream",
          "name": "stderr",
          "text": [
            "\r  0%|          | 0/1000 [00:00<?, ?it/s]<ipython-input-27-873146d6ee72>:24: FutureWarning: `torch.cuda.amp.autocast(args...)` is deprecated. Please use `torch.amp.autocast('cuda', args...)` instead.\n",
            "  with torch.cuda.amp.autocast(dtype=torch.float16) if SearchConfig.ENABLE_FP16 else nullcontext():\n",
            "  1%|          | 10/1000 [00:45<1:29:06,  5.40s/it]"
          ]
        },
        {
          "output_type": "stream",
          "name": "stdout",
          "text": [
            "Solution not found.\n"
          ]
        },
        {
          "output_type": "stream",
          "name": "stderr",
          "text": [
            "  1%|▏         | 13/1000 [01:01<1:32:50,  5.64s/it]"
          ]
        },
        {
          "output_type": "stream",
          "name": "stdout",
          "text": [
            "Solution not found.\n"
          ]
        },
        {
          "output_type": "stream",
          "name": "stderr",
          "text": [
            "  2%|▏         | 19/1000 [01:27<1:24:23,  5.16s/it]"
          ]
        },
        {
          "output_type": "stream",
          "name": "stdout",
          "text": [
            "Solution not found.\n"
          ]
        },
        {
          "output_type": "stream",
          "name": "stderr",
          "text": [
            "  6%|▌         | 55/1000 [04:05<1:23:34,  5.31s/it]"
          ]
        },
        {
          "output_type": "stream",
          "name": "stdout",
          "text": [
            "Solution not found.\n"
          ]
        },
        {
          "output_type": "stream",
          "name": "stderr",
          "text": [
            " 11%|█         | 112/1000 [08:13<1:19:30,  5.37s/it]"
          ]
        },
        {
          "output_type": "stream",
          "name": "stdout",
          "text": [
            "Solution not found.\n"
          ]
        },
        {
          "output_type": "stream",
          "name": "stderr",
          "text": [
            " 12%|█▏        | 120/1000 [08:54<1:20:08,  5.46s/it]"
          ]
        },
        {
          "output_type": "stream",
          "name": "stdout",
          "text": [
            "Solution not found.\n"
          ]
        },
        {
          "output_type": "stream",
          "name": "stderr",
          "text": [
            " 13%|█▎        | 134/1000 [09:58<1:16:18,  5.29s/it]"
          ]
        },
        {
          "output_type": "stream",
          "name": "stdout",
          "text": [
            "Solution not found.\n"
          ]
        },
        {
          "output_type": "stream",
          "name": "stderr",
          "text": [
            " 14%|█▍        | 138/1000 [10:17<1:18:24,  5.46s/it]"
          ]
        },
        {
          "output_type": "stream",
          "name": "stdout",
          "text": [
            "Solution not found.\n"
          ]
        },
        {
          "output_type": "stream",
          "name": "stderr",
          "text": [
            " 14%|█▍        | 141/1000 [10:34<1:22:40,  5.77s/it]"
          ]
        },
        {
          "output_type": "stream",
          "name": "stdout",
          "text": [
            "Solution not found.\n"
          ]
        },
        {
          "output_type": "stream",
          "name": "stderr",
          "text": [
            " 14%|█▍        | 143/1000 [10:45<1:25:14,  5.97s/it]"
          ]
        },
        {
          "output_type": "stream",
          "name": "stdout",
          "text": [
            "Solution not found.\n"
          ]
        },
        {
          "output_type": "stream",
          "name": "stderr",
          "text": [
            " 16%|█▌        | 158/1000 [11:57<1:21:57,  5.84s/it]"
          ]
        },
        {
          "output_type": "stream",
          "name": "stdout",
          "text": [
            "Solution not found.\n"
          ]
        },
        {
          "output_type": "stream",
          "name": "stderr",
          "text": [
            " 16%|█▌        | 161/1000 [12:15<1:27:08,  6.23s/it]"
          ]
        },
        {
          "output_type": "stream",
          "name": "stdout",
          "text": [
            "Solution not found.\n"
          ]
        },
        {
          "output_type": "stream",
          "name": "stderr",
          "text": [
            " 17%|█▋        | 167/1000 [12:42<1:14:21,  5.36s/it]"
          ]
        },
        {
          "output_type": "stream",
          "name": "stdout",
          "text": [
            "Solution not found.\n"
          ]
        },
        {
          "output_type": "stream",
          "name": "stderr",
          "text": [
            " 18%|█▊        | 181/1000 [13:45<1:12:46,  5.33s/it]"
          ]
        },
        {
          "output_type": "stream",
          "name": "stdout",
          "text": [
            "Solution not found.\n"
          ]
        },
        {
          "output_type": "stream",
          "name": "stderr",
          "text": [
            " 18%|█▊        | 183/1000 [13:56<1:18:02,  5.73s/it]"
          ]
        },
        {
          "output_type": "stream",
          "name": "stdout",
          "text": [
            "Solution not found.\n"
          ]
        },
        {
          "output_type": "stream",
          "name": "stderr",
          "text": [
            " 18%|█▊        | 185/1000 [14:08<1:20:59,  5.96s/it]"
          ]
        },
        {
          "output_type": "stream",
          "name": "stdout",
          "text": [
            "Solution not found.\n"
          ]
        },
        {
          "output_type": "stream",
          "name": "stderr",
          "text": [
            " 28%|██▊       | 284/1000 [20:59<1:02:15,  5.22s/it]"
          ]
        },
        {
          "output_type": "stream",
          "name": "stdout",
          "text": [
            "Solution not found.\n"
          ]
        },
        {
          "output_type": "stream",
          "name": "stderr",
          "text": [
            " 30%|██▉       | 295/1000 [21:50<1:04:20,  5.48s/it]"
          ]
        },
        {
          "output_type": "stream",
          "name": "stdout",
          "text": [
            "Solution not found.\n"
          ]
        },
        {
          "output_type": "stream",
          "name": "stderr",
          "text": [
            " 32%|███▏      | 323/1000 [23:52<1:04:59,  5.76s/it]"
          ]
        },
        {
          "output_type": "stream",
          "name": "stdout",
          "text": [
            "Solution not found.\n"
          ]
        },
        {
          "output_type": "stream",
          "name": "stderr",
          "text": [
            " 34%|███▍      | 339/1000 [25:05<57:45,  5.24s/it]"
          ]
        },
        {
          "output_type": "stream",
          "name": "stdout",
          "text": [
            "Solution not found.\n"
          ]
        },
        {
          "output_type": "stream",
          "name": "stderr",
          "text": [
            " 35%|███▍      | 346/1000 [25:40<1:00:49,  5.58s/it]"
          ]
        },
        {
          "output_type": "stream",
          "name": "stdout",
          "text": [
            "Solution not found.\n"
          ]
        },
        {
          "output_type": "stream",
          "name": "stderr",
          "text": [
            " 38%|███▊      | 385/1000 [28:30<58:05,  5.67s/it]"
          ]
        },
        {
          "output_type": "stream",
          "name": "stdout",
          "text": [
            "Solution not found.\n"
          ]
        },
        {
          "output_type": "stream",
          "name": "stderr",
          "text": [
            " 40%|███▉      | 399/1000 [29:33<54:07,  5.40s/it]"
          ]
        },
        {
          "output_type": "stream",
          "name": "stdout",
          "text": [
            "Solution not found.\n"
          ]
        },
        {
          "output_type": "stream",
          "name": "stderr",
          "text": [
            " 41%|████      | 408/1000 [30:14<52:03,  5.28s/it]"
          ]
        },
        {
          "output_type": "stream",
          "name": "stdout",
          "text": [
            "Solution not found.\n"
          ]
        },
        {
          "output_type": "stream",
          "name": "stderr",
          "text": [
            " 42%|████▏     | 423/1000 [31:21<49:43,  5.17s/it]"
          ]
        },
        {
          "output_type": "stream",
          "name": "stdout",
          "text": [
            "Solution not found.\n"
          ]
        },
        {
          "output_type": "stream",
          "name": "stderr",
          "text": [
            " 43%|████▎     | 432/1000 [32:03<50:29,  5.33s/it]"
          ]
        },
        {
          "output_type": "stream",
          "name": "stdout",
          "text": [
            "Solution not found.\n"
          ]
        },
        {
          "output_type": "stream",
          "name": "stderr",
          "text": [
            " 44%|████▎     | 437/1000 [32:30<52:17,  5.57s/it]"
          ]
        },
        {
          "output_type": "stream",
          "name": "stdout",
          "text": [
            "Solution not found.\n"
          ]
        },
        {
          "output_type": "stream",
          "name": "stderr",
          "text": [
            " 45%|████▌     | 450/1000 [33:25<45:50,  5.00s/it]"
          ]
        },
        {
          "output_type": "stream",
          "name": "stdout",
          "text": [
            "Solution not found.\n"
          ]
        },
        {
          "output_type": "stream",
          "name": "stderr",
          "text": [
            " 50%|████▉     | 499/1000 [36:49<43:27,  5.20s/it]"
          ]
        },
        {
          "output_type": "stream",
          "name": "stdout",
          "text": [
            "Solution not found.\n"
          ]
        },
        {
          "output_type": "stream",
          "name": "stderr",
          "text": [
            " 51%|█████     | 510/1000 [37:38<42:00,  5.14s/it]"
          ]
        },
        {
          "output_type": "stream",
          "name": "stdout",
          "text": [
            "Solution not found.\n"
          ]
        },
        {
          "output_type": "stream",
          "name": "stderr",
          "text": [
            " 52%|█████▏    | 522/1000 [38:30<40:55,  5.14s/it]"
          ]
        },
        {
          "output_type": "stream",
          "name": "stdout",
          "text": [
            "Solution not found.\n"
          ]
        },
        {
          "output_type": "stream",
          "name": "stderr",
          "text": [
            " 52%|█████▏    | 524/1000 [38:42<45:00,  5.67s/it]"
          ]
        },
        {
          "output_type": "stream",
          "name": "stdout",
          "text": [
            "Solution not found.\n"
          ]
        },
        {
          "output_type": "stream",
          "name": "stderr",
          "text": [
            "\r 52%|█████▎    | 525/1000 [38:50<50:07,  6.33s/it]"
          ]
        },
        {
          "output_type": "stream",
          "name": "stdout",
          "text": [
            "Solution not found.\n"
          ]
        },
        {
          "output_type": "stream",
          "name": "stderr",
          "text": [
            " 55%|█████▌    | 550/1000 [40:38<40:15,  5.37s/it]"
          ]
        },
        {
          "output_type": "stream",
          "name": "stdout",
          "text": [
            "Solution not found.\n"
          ]
        },
        {
          "output_type": "stream",
          "name": "stderr",
          "text": [
            " 57%|█████▊    | 575/1000 [42:21<36:07,  5.10s/it]"
          ]
        },
        {
          "output_type": "stream",
          "name": "stdout",
          "text": [
            "Solution not found.\n"
          ]
        },
        {
          "output_type": "stream",
          "name": "stderr",
          "text": [
            " 62%|██████▏   | 622/1000 [45:37<34:18,  5.45s/it]"
          ]
        },
        {
          "output_type": "stream",
          "name": "stdout",
          "text": [
            "Solution not found.\n"
          ]
        },
        {
          "output_type": "stream",
          "name": "stderr",
          "text": [
            " 63%|██████▎   | 627/1000 [46:01<33:31,  5.39s/it]"
          ]
        },
        {
          "output_type": "stream",
          "name": "stdout",
          "text": [
            "Solution not found.\n"
          ]
        },
        {
          "output_type": "stream",
          "name": "stderr",
          "text": [
            " 64%|██████▎   | 635/1000 [46:38<32:31,  5.35s/it]"
          ]
        },
        {
          "output_type": "stream",
          "name": "stdout",
          "text": [
            "Solution not found.\n"
          ]
        },
        {
          "output_type": "stream",
          "name": "stderr",
          "text": [
            " 68%|██████▊   | 678/1000 [49:42<27:15,  5.08s/it]"
          ]
        },
        {
          "output_type": "stream",
          "name": "stdout",
          "text": [
            "Solution not found.\n"
          ]
        },
        {
          "output_type": "stream",
          "name": "stderr",
          "text": [
            " 69%|██████▉   | 690/1000 [50:37<28:32,  5.52s/it]"
          ]
        },
        {
          "output_type": "stream",
          "name": "stdout",
          "text": [
            "Solution not found.\n"
          ]
        },
        {
          "output_type": "stream",
          "name": "stderr",
          "text": [
            " 70%|██████▉   | 696/1000 [51:06<28:38,  5.65s/it]"
          ]
        },
        {
          "output_type": "stream",
          "name": "stdout",
          "text": [
            "Solution not found.\n"
          ]
        },
        {
          "output_type": "stream",
          "name": "stderr",
          "text": [
            "\r 70%|██████▉   | 697/1000 [51:14<31:48,  6.30s/it]"
          ]
        },
        {
          "output_type": "stream",
          "name": "stdout",
          "text": [
            "Solution not found.\n"
          ]
        },
        {
          "output_type": "stream",
          "name": "stderr",
          "text": [
            " 70%|███████   | 700/1000 [51:29<29:30,  5.90s/it]"
          ]
        },
        {
          "output_type": "stream",
          "name": "stdout",
          "text": [
            "Solution not found.\n"
          ]
        },
        {
          "output_type": "stream",
          "name": "stderr",
          "text": [
            " 74%|███████▎  | 736/1000 [54:07<22:07,  5.03s/it]"
          ]
        },
        {
          "output_type": "stream",
          "name": "stdout",
          "text": [
            "Solution not found.\n"
          ]
        },
        {
          "output_type": "stream",
          "name": "stderr",
          "text": [
            "\r 74%|███████▎  | 737/1000 [54:15<26:01,  5.94s/it]"
          ]
        },
        {
          "output_type": "stream",
          "name": "stdout",
          "text": [
            "Solution not found.\n"
          ]
        },
        {
          "output_type": "stream",
          "name": "stderr",
          "text": [
            " 81%|████████  | 806/1000 [59:14<17:38,  5.45s/it]"
          ]
        },
        {
          "output_type": "stream",
          "name": "stdout",
          "text": [
            "Solution not found.\n"
          ]
        },
        {
          "output_type": "stream",
          "name": "stderr",
          "text": [
            " 82%|████████▏ | 818/1000 [1:00:10<16:06,  5.31s/it]"
          ]
        },
        {
          "output_type": "stream",
          "name": "stdout",
          "text": [
            "Solution not found.\n"
          ]
        },
        {
          "output_type": "stream",
          "name": "stderr",
          "text": [
            " 84%|████████▍ | 841/1000 [1:01:55<14:11,  5.36s/it]"
          ]
        },
        {
          "output_type": "stream",
          "name": "stdout",
          "text": [
            "Solution not found.\n"
          ]
        },
        {
          "output_type": "stream",
          "name": "stderr",
          "text": [
            " 90%|█████████ | 903/1000 [1:06:27<08:30,  5.26s/it]"
          ]
        },
        {
          "output_type": "stream",
          "name": "stdout",
          "text": [
            "Solution not found.\n"
          ]
        },
        {
          "output_type": "stream",
          "name": "stderr",
          "text": [
            " 92%|█████████▏| 920/1000 [1:07:43<06:53,  5.17s/it]"
          ]
        },
        {
          "output_type": "stream",
          "name": "stdout",
          "text": [
            "Solution not found.\n"
          ]
        },
        {
          "output_type": "stream",
          "name": "stderr",
          "text": [
            " 93%|█████████▎| 926/1000 [1:08:13<06:50,  5.54s/it]"
          ]
        },
        {
          "output_type": "stream",
          "name": "stdout",
          "text": [
            "Solution not found.\n"
          ]
        },
        {
          "output_type": "stream",
          "name": "stderr",
          "text": [
            " 97%|█████████▋| 972/1000 [1:11:40<02:24,  5.14s/it]"
          ]
        },
        {
          "output_type": "stream",
          "name": "stdout",
          "text": [
            "Solution not found.\n"
          ]
        },
        {
          "output_type": "stream",
          "name": "stderr",
          "text": [
            "100%|██████████| 1000/1000 [1:13:39<00:00,  4.42s/it]\n"
          ]
        },
        {
          "output_type": "execute_result",
          "data": {
            "text/plain": [
              "'Successfully solved 948 cases out of 1000'"
            ],
            "application/vnd.google.colaboratory.intrinsic+json": {
              "type": "string"
            }
          },
          "metadata": {},
          "execution_count": 28
        }
      ],
      "source": [
        "result_ours = {\n",
        "    \"solutions\":[],\n",
        "    \"num_nodes_generated\":[],\n",
        "    \"times\":[]\n",
        "}\n",
        "for scramble in tqdm(test_scrambles, position=0):\n",
        "    # reset and scramble\n",
        "    env.reset()\n",
        "    env.apply_scramble(scramble)\n",
        "    # solve\n",
        "    success, result = beam_search(env, model)\n",
        "    if success:\n",
        "        for k in result_ours.keys():\n",
        "            result_ours[k].append(result[k])\n",
        "    else:\n",
        "        result_ours[\"solutions\"].append(None)\n",
        "\n",
        "result_ours['solution_lengths'] = [len(e) for e in result_ours['solutions'] if e]\n",
        "result_ours['solution_lengths_count'] = {\n",
        "    i: result_ours[\"solution_lengths\"].count(i)\n",
        "    for i in range(min(result_ours[\"solution_lengths\"]), max(result_ours[\"solution_lengths\"]))\n",
        "}\n",
        "f\"Successfully solved {len(result_ours['times'])} cases out of {len(result_ours['solutions'])}\""
      ]
    },
    {
      "cell_type": "code",
      "execution_count": null,
      "metadata": {
        "id": "orFapopwBQHs",
        "trusted": true,
        "colab": {
          "base_uri": "https://localhost:8080/",
          "height": 773
        },
        "outputId": "715dc654-200a-4640-e3a4-a9dae250ec04"
      },
      "outputs": [
        {
          "output_type": "display_data",
          "data": {
            "text/plain": [
              "<Figure size 1600x900 with 6 Axes>"
            ],
            "image/png": "[encoded data removed]"
          },
          "metadata": {}
        }
      ],
      "source": [
        "# Visualize result\n",
        "fig, ax = plt.subplots(2, 3, figsize=(16, 9))\n",
        "ax = ax.ravel()\n",
        "ax[0].set_ylabel(\"Frequency\")\n",
        "ax[1].set_xlabel(\"Number of nodes\")\n",
        "\n",
        "key_to_text = {\n",
        "    \"solution_lengths\":    \"Solution lengths\",\n",
        "    'num_nodes_generated': \"Number of nodes\",\n",
        "    \"times\":               \"Time (s)\",\n",
        "}\n",
        "\n",
        "for i, k in enumerate([\"solution_lengths\", \"num_nodes_generated\", \"times\"]):\n",
        "    v = result_ours[k]\n",
        "    if k==\"solution_lengths\":\n",
        "        v_count = result_ours['solution_lengths_count']\n",
        "        ax[i].bar(v_count.keys(), v_count.values(), width=1.0)\n",
        "    else:\n",
        "        ax[i].hist(v)\n",
        "    ax[i].axvline(np.mean(v), color=\"#00ffff\", label=f\"mean={np.mean(v):.3f}\")\n",
        "    ax[i].set_xlabel(key_to_text[k])\n",
        "    ax[i].legend()\n",
        "\n",
        "for i, (key_x, key_y) in enumerate([(\"solution_lengths\", \"num_nodes_generated\"), (\"num_nodes_generated\", \"times\"), (\"times\", \"solution_lengths\")]):\n",
        "    i += 3\n",
        "    x, y = [result_ours[k] for k in [key_x, key_y]]\n",
        "    ax[i].set_xlabel(key_to_text[key_x])\n",
        "    ax[i].set_ylabel(key_to_text[key_y])\n",
        "\n",
        "    x_range = np.linspace(0, max(x), 100)\n",
        "    coef = np.mean(np.squeeze(np.array(y) / np.array(x)))\n",
        "    ax[i].plot(x_range, x_range * coef, label=f\"slope={coef:.6f}\", color=\"#00ffff\")\n",
        "    ax[i].scatter(x, y)\n",
        "    ax[i].legend()\n",
        "\n",
        "plt.show()"
      ]
    },
    {
      "cell_type": "markdown",
      "metadata": {
        "id": "ADP7zZzKJr-m"
      },
      "source": [
        "## Comparison to DeepCubeA"
      ]
    },
    {
      "cell_type": "markdown",
      "metadata": {
        "id": "tFCy2rKkziW-"
      },
      "source": [
        "### Number of nodes vs. solution length"
      ]
    },
    {
      "cell_type": "code",
      "execution_count": null,
      "metadata": {
        "id": "zeKUE1rFznt5",
        "trusted": true,
        "colab": {
          "base_uri": "https://localhost:8080/",
          "height": 594
        },
        "outputId": "9baabdc1-b22e-444d-c7d2-325e85ea2b8d"
      },
      "outputs": [
        {
          "output_type": "display_data",
          "data": {
            "text/plain": [
              "<Figure size 600x600 with 3 Axes>"
            ],
            "image/png": "[encoded data removed]"
          },
          "metadata": {}
        }
      ],
      "source": [
        "left, width = 0.12, 0.75\n",
        "bottom, height = 0.1, 0.75\n",
        "spacing = 0.0\n",
        "\n",
        "rect_scatter = [left, bottom, width, height]\n",
        "rect_histx = [left, bottom + height, width, 0.1]\n",
        "rect_histy = [left + width, bottom, 0.1, height]\n",
        "\n",
        "fig = plt.figure(figsize=(6, 6))\n",
        "ax = fig.add_axes(rect_scatter)\n",
        "ax.set_xlabel(\"Number of nodes\")\n",
        "ax.set_ylabel(\"Solution length\")\n",
        "ax.set_xscale(\"log\")\n",
        "ax_histx = fig.add_axes(rect_histx, sharex=ax)\n",
        "ax_histy = fig.add_axes(rect_histy, sharey=ax)\n",
        "ax_histx.set_ylabel(\"Frequency\")\n",
        "ax_histy.set_xlabel(\"Frequency\")\n",
        "ax_histx.tick_params(axis=\"x\", labelbottom=False)\n",
        "ax_histy.tick_params(axis=\"y\", labelleft=False)\n",
        "\n",
        "ax.set_ylim(15, max(result_ours['solution_lengths_count']))\n",
        "ax_histy.set_ylim(15, max(result_ours['solution_lengths_count']))\n",
        "\n",
        "xmin, xmax = 2.5, 8.5\n",
        "ax.set_xlim(10**xmin, 10**xmax)\n",
        "ax_histx.set_xlim(10**xmin, 10**xmax)\n",
        "bins_x = np.logspace(xmin, xmax, 100)\n",
        "\n",
        "################################################################################\n",
        "\n",
        "key_x, key_y = \"num_nodes_generated\", \"solution_lengths\"\n",
        "\n",
        "for k, data in [(\"Optimal\", result_Optimal), (\"DeepCubeA\", result_DeepCubeA), (\"Ours\", result_ours)]:\n",
        "    x, y = data[key_x], data[key_y]\n",
        "    ax.scatter(x, y, s=10, alpha=0.3)\n",
        "    ax_histx.hist(x, bins=bins_x, alpha=0.7)\n",
        "\n",
        "for i, data in enumerate([result_Optimal, result_DeepCubeA, result_ours]):\n",
        "    data = data[\"solution_lengths_count\"]\n",
        "    ax_histy.barh(list(data.keys()), list(data.values()), height=1, alpha=0.7)\n",
        "\n",
        "ax_histy.axhline(np.mean(result_ours[key_y]), ls=\"--\", color=\"#EB4275\")\n",
        "ax.axhline(np.mean(result_ours[key_y]), ls=\"--\", color=\"#EB4275\")\n",
        "\n",
        "ax.plot(np.mean(result_Optimal[key_x]), np.mean(result_Optimal[key_y]),     \"x\", markersize=12, label=\"Optimal\")\n",
        "ax.plot(np.mean(result_DeepCubeA[key_x]), np.mean(result_DeepCubeA[key_y]), \"x\", markersize=12, label=\"DeepCubeA\")\n",
        "ax.plot(np.mean(result_ours[key_x]), np.mean(result_ours[key_y]),           \"x\", markersize=12, label=\"Ours\")\n",
        "ax.legend()\n",
        "\n",
        "plt.show()"
      ]
    }
  ],
  "metadata": {
    "kernelspec": {
      "display_name": "Python 3",
      "name": "python3"
    },
    "language_info": {
      "codemirror_mode": {
        "name": "ipython",
        "version": 3
      },
      "file_extension": ".py",
      "mimetype": "text/x-python",
      "name": "python",
      "nbconvert_exporter": "python",
      "pygments_lexer": "ipython3",
      "version": "3.9.2"
    },
    "colab": {
      "provenance": [],
      "include_colab_link": true
    }
  },
  "nbformat": 4,
  "nbformat_minor": 0
}